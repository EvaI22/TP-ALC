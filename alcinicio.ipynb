{
 "cells": [
  {
   "cell_type": "markdown",
   "id": "062077ae-4ab0-4a71-9009-75cf83d47e88",
   "metadata": {},
   "source": [
    "#### **Enunciado 1. Autovectores y autovalores de L y R** \n",
    "\n",
    "#### **a.** Muestren que el vector de unos 1 es autovector de las matrices R y L. ¿Qué autovalor tiene? ¿Y qué agrupación de la red representa? \n",
    "\n",
    "\n",
    "---"
   ]
  },
  {
   "cell_type": "markdown",
   "id": "11f2b8c5-adc1-4ae4-983a-2a7460bb4d15",
   "metadata": {},
   "source": [
    "- Matriz L"
   ]
  },
  {
   "cell_type": "markdown",
   "id": "0d98be0a-3e04-4bb4-a57f-e67cd8e0ec6b",
   "metadata": {},
   "source": [
    "$$ L = K-A $$ \n",
    "$$   (K-A).v = \\lambda.v$$ \n",
    "$$ Autovector = \n",
    "\\begin{pmatrix}\n",
    "1\\\\\n",
    "1 \\\\\n",
    "\\vdots \\\\\n",
    "1\n",
    "\\end{pmatrix}\n",
    "$$\n",
    "$$   (K-A).1 = \\lambda.1$$ \n",
    "$$ Distribuimos $$\n",
    "$$ K.1 - A.1 = \n",
    "\\begin{pmatrix}\n",
    "\\lambda\\\\\n",
    "\\lambda\\\\\n",
    "\\vdots \\\\\n",
    "\\lambda\n",
    "\\end{pmatrix}\n",
    "$$ "
   ]
  },
  {
   "cell_type": "markdown",
   "id": "24d10ab6-86b9-4b01-b6fa-8c267f750364",
   "metadata": {},
   "source": [
    "- Sabemos que:\n",
    "- $ K_{ij} = \\begin{cases}   \\displaystyle \\sum_{h=1}^{n} A_{ih}, & \\text{si } i = j \\quad\\text{(tiene en su diagonal la suma por filas de A)} \\\\ \\\\ 0, & \\text{si } i \\ne j \\end{cases} $\n",
    "\n",
    "- $A_{ij} = 1$ si el museo $j$ está entre los cercanos al museo $i$, y vale $0$ si no lo está."
   ]
  },
  {
   "cell_type": "markdown",
   "id": "5da6c536-fbae-4ca6-81c3-30371d861b8a",
   "metadata": {},
   "source": [
    "$$ Entonces \\space{ }\n",
    "K.1 = A.1 =  \n",
    "\\begin{pmatrix}\n",
    "\\sum_{h=1}^{n} A_{1h}\\\\ \n",
    "\\sum_{h=1}^{n} A_{2h}\\\\\n",
    "\\vdots \\\\\n",
    "\\sum_{h=1}^{n} A_{nh}\n",
    "\\end{pmatrix}\n",
    "$$ \n",
    "Ya que al multiplicar por el autovector 1, ambas matrices tendrás en cada componente la suma de filas de A. "
   ]
  },
  {
   "cell_type": "markdown",
   "id": "20056049-707d-4780-a84f-d3c5ff5c2153",
   "metadata": {},
   "source": [
    "$$ \n",
    "\\begin{pmatrix}\n",
    "\\sum_{h=1}^{n} A_{1h}\\\\ \n",
    "\\sum_{h=1}^{n} A_{2h}\\\\\n",
    "\\vdots \\\\\n",
    "\\sum_{h=1}^{n} A_{nh}\n",
    "\\end{pmatrix}\n",
    "\\text{-}\n",
    "\\begin{pmatrix}\n",
    "\\sum_{h=1}^{n} A_{1h}\\\\ \n",
    "\\sum_{h=1}^{n} A_{2h}\\\\\n",
    "\\vdots \\\\\n",
    "\\sum_{h=1}^{n} A_{nh}\n",
    "\\end{pmatrix}\n",
    "\\text{=}\n",
    "\\begin{pmatrix}\n",
    "\\lambda\\\\\n",
    "\\lambda\\\\\n",
    "\\vdots \\\\\n",
    "\\lambda\n",
    "\\end{pmatrix}\n",
    "$$ \n",
    "$$ Finalmente \\space { }\n",
    "\\boxed{\n",
    "    \\lambda = 0\n",
    "} \n",
    "$$"
   ]
  },
  {
   "cell_type": "markdown",
   "id": "a06f018f-41f9-467a-835b-093e286790e8",
   "metadata": {},
   "source": [
    "$$   L.1 = 0 \\text{ Entonces sabemos que el vector (1,1,...,1) corresponde al nucleo de L y que la suma de filas de L es 0} $$ "
   ]
  },
  {
   "cell_type": "markdown",
   "id": "52d0502e-9ae2-4c74-8058-4e019d242ed6",
   "metadata": {},
   "source": [
    "No representa una agrupación determinada pero asegura que hay una conexión en la red, todos pertenecen a un mismo grupo."
   ]
  },
  {
   "cell_type": "markdown",
   "id": "48648e34-53f9-4f59-90d6-72e2b040bc15",
   "metadata": {},
   "source": [
    "- Veamos qué ocurre en el caso de la matriz R.\n",
    "\n",
    "$$ R = A - P $$\n",
    "$$   (A - P).v = \\lambda.v $$ \n",
    "$$   (A - P).1 = \\lambda.1 $$ \n",
    "$$ A.1 - P.1 = \n",
    "\\begin{pmatrix}\n",
    "\\lambda\\\\\n",
    "\\lambda\\\\\n",
    "\\vdots \\\\\n",
    "\\lambda\n",
    "\\end{pmatrix}\n",
    "$$ "
   ]
  },
  {
   "cell_type": "markdown",
   "id": "a339e965-f2f7-4290-8445-b8d182d6969a",
   "metadata": {},
   "source": [
    "- Sabemos que:\n",
    "- a) $ P_{ij} = k_{i}k_{j}/2E, \\text{    } 2E = \\sum_{i=1}^N \\sum_{j=1}^N A_{ij}$ \n",
    "- b) $ K_{ii} = k_{i} = \\sum_{j=1}^{n} A_{ij} \\space{ } \\text{ en esa fila }$ \n",
    "- c) $A_{ij} = 1$ si el museo $j$ está entre los cercanos al museo $i$, y vale $0$ si no lo está. "
   ]
  },
  {
   "cell_type": "markdown",
   "id": "18db74e8-6ad6-44f3-bb69-8b0da09ad9e0",
   "metadata": {},
   "source": [
    "Reemplazamos, obtenemos una expresión equivalente a 2E\n",
    "- Partimos de a)\n",
    "  \n",
    "$ 2E = \\sum_{i=1}^N \\sum_{j=1}^N A_{ij}$\n",
    "\n",
    "- Reemplazando según b), obtenemos...\n",
    "  \n",
    "$ 2E = \\sum_{i=1}^N k_{i}$"
   ]
  },
  {
   "cell_type": "markdown",
   "id": "b6bc188a-40ca-4ff9-945b-9b6c69c0f247",
   "metadata": {},
   "source": [
    "Analicemos P \n",
    "\n",
    "P.1 va a ser la suma de filas de P (recorre todo j) en cada componente.\n",
    "\n",
    "$$ (P.1)_{i} =  \\sum_{j=1}^N \\frac{k_{i}k_{j}}{2E} $$ \n",
    "$$ (P.1)_{i} =  \\frac{k_{i}}{2E}\\sum_{j=1}^N k_{j} $$ \n",
    "y como vimos... $ 2E = \\sum_{h=1}^N k_{h}$\n",
    "$$ (P.1)_{i} =  \\frac{k_{i}}{\\cancel{2E}}*\\cancel{2E} $$ "
   ]
  },
  {
   "cell_type": "markdown",
   "id": "a8bdfc3c-1181-43df-bf8a-a5c7e809fcde",
   "metadata": {},
   "source": [
    "$$\n",
    "P.1 = \n",
    "\\begin{pmatrix}\n",
    "K_{11}\\\\\n",
    "K_{22}\\\\\n",
    "\\vdots \\\\\n",
    "K_{NN}\n",
    "\\end{pmatrix}\n",
    "\\space \n",
    "\\text {y como vimos K tiene en su diagonal la suma por filas de A así que }\n",
    "P.1 = \n",
    "\\begin{pmatrix}\n",
    "K_{11}\\\\\n",
    "K_{22}\\\\\n",
    "\\vdots \\\\\n",
    "K_{NN}\n",
    "\\end{pmatrix}\n",
    "\\text{=}\n",
    "\\begin{pmatrix}\n",
    "\\sum_{h=1}^{n} A_{1h}\\\\ \n",
    "\\sum_{h=1}^{n} A_{2h}\\\\\n",
    "\\vdots \\\\\n",
    "\\sum_{h=1}^{n} A_{nh}\n",
    "\\end{pmatrix}\n",
    "$$"
   ]
  },
  {
   "cell_type": "markdown",
   "id": "bad2f78f-8d60-4163-998e-eb6a8b7b555f",
   "metadata": {},
   "source": [
    "Nuevamente al hacer A.1 - P.1, con A.1 = P.1 vemos que,\n",
    "$$\n",
    "\\boxed{\n",
    "    \\lambda = 0\n",
    "} \n",
    "$$"
   ]
  },
  {
   "cell_type": "markdown",
   "id": "a7b06990-185a-468c-8a58-e90f6759284e",
   "metadata": {},
   "source": [
    "---\n",
    "#### **b.** Muestren que si L (R) tienen dos autovectores v1 y v2 asociados a autovalores λ1̸ = λ2, entonces vt 1v2 = 0. \n",
    "\n",
    "\n",
    "---"
   ]
  },
  {
   "cell_type": "markdown",
   "id": "ac9cc50d-f57b-4777-9527-d1d9a1e3cdf2",
   "metadata": {},
   "source": [
    "Partimos de la indicación y determinamos a L con autovectores v1 y v2:\n",
    "$$   L.v_{1} = \\lambda_{1}.v_{1} $$ \n",
    "$$   L.v_{2} = \\lambda_{2}.v_{2} $$\n",
    "$$ Siendo\\space{ } \\lambda_{1}  \\neq \\lambda_{2} $$\n"
   ]
  },
  {
   "cell_type": "markdown",
   "id": "4fd15876-5a58-4efc-9cc9-5a8536990cbf",
   "metadata": {},
   "source": [
    "Luego, para llegar a \n",
    "$ v_{1}^{t} .L.v_{2}\\text{ y }  v_{2}^{t} .L.v_{1} $\n",
    "\n",
    "Multiplicamos por ambos miembros"
   ]
  },
  {
   "cell_type": "markdown",
   "id": "8c5bba75-cb9c-4f54-8434-25fbde8cbd61",
   "metadata": {},
   "source": [
    "$$   v_{2}^{t}*L.v_{1} = v_{2}^{t}*\\lambda_{1}.v_{1}  $$ \n",
    "$$   v_{1}^{t}*L.v_{2} = v_{1}^{t}*\\lambda_{2}.v_{2} $$"
   ]
  },
  {
   "cell_type": "markdown",
   "id": "3c03b77b-01d3-43dd-9ce6-c53251f6af82",
   "metadata": {},
   "source": [
    "Destacando que L es simétrica, $L = L^{t}$, partimos de la segunda ecuación y reemplazamos con los valores de L.v1 mencionados arriba"
   ]
  },
  {
   "cell_type": "markdown",
   "id": "800660dc-7b2f-41e3-96c1-83bd17dd442d",
   "metadata": {},
   "source": [
    "\n",
    "$$ v_{1}^{t}*L.v_{2} =  (L*v_{1})^{t}.v_{2} $$\n",
    "$$ v_{1}^{t}*L.v_{2} =  (\\lambda_{1}.v_{1})^{t}.v_{2}$$\n",
    "$$ v_{1}^{t}*L.v_{2} =  \\lambda_{1}.v_{1}^{t}.v_{2}  $$"
   ]
  },
  {
   "cell_type": "markdown",
   "id": "39142c73-3c19-441c-9960-54335af45dc0",
   "metadata": {},
   "source": [
    "Finalmente observamos que...\n",
    "$$ v_{1}^{t}*L.v_{2} =  \\lambda_{1}.v_{1}^{t}.v_{2} = v_{1}^{t}*\\lambda_{2}.v_{2} $$\n",
    "$$ \\lambda_{1}.v_{1}^{t}.v_{2} = v_{1}^{t}.\\lambda_{2}.v_{2} $$\n",
    "$$ \\lambda_{1}.v_{1}^{t}.v_{2} - v_{1}^{t}.\\lambda_{2}.v_{2} = 0 $$\n",
    "$$ (\\lambda_{1} - \\lambda_{2}).(v_{1}^{t}.v_{2}) = 0$$ \n",
    "    Como $\\lambda_{1}  \\neq \\lambda_{2}$, este primer caso es un absurdo. Entonces se cumple que  $v_{1}^{t}.v_{2} = 0$, que es lo que se quería probar."
   ]
  },
  {
   "cell_type": "markdown",
   "id": "626df954-66bc-48b2-a068-cb193ccd9607",
   "metadata": {},
   "source": [
    "---\n",
    "#### **c.** Muestren si v es un autovector de autovalor $\\lambda \\neq 0$ de R o L, entonces $ \\sum_{i=1}^{n} v_{i} = 0 $\n",
    "\n",
    "\n",
    "---"
   ]
  },
  {
   "cell_type": "markdown",
   "id": "5c9afeca-9688-4799-b6d5-55eef376bf98",
   "metadata": {},
   "source": [
    "Vamos a utilizar la conclusión del item b) para poder probar este ejercicio. \n",
    "$$   L.v_{1} = \\lambda_{1}.v_{1} $$ \n",
    "$$   L.v_{2} = \\lambda_{2}.v_{2} $$\n",
    "$$ Con\\space { } \\lambda_{1}  \\neq \\lambda_{2} $$\n",
    "\n",
    "El enunciado no spide probar que lamda distinto de cero, entonces  $\\lambda_{1}  \\neq (\\lambda_{2}= 0)$,\n",
    "$$   L.v_{1} = \\lambda_{1}.v_{1} $$ \n",
    "$$   L.v_{2} = 0 $$ Este autovector ya lo deducimos del item a), entonces v2=(1,1,1,...,1)\n",
    "Entonces, conociendo que son ortogonales\n",
    "$$ (\\lambda_{1} - \\lambda_{2}).(v_{1}^{t}.v_{2}) = 0$$ \n",
    "$$ (\\lambda_{1} - 0).(v_{1}^{t}.1) = 0$$ \n",
    "El primer caso no se cumple ya que partimos de lamda1 distinto de cero, entonces solo puede ser cierto que:\n",
    "$v_{1}^{t}.1 = 0$ \n",
    "\n",
    "Si analizamos $v_{1}^{t}.1$, aquel multiplica la fila de v por el vector de unos. Esto equivale a la sumatoria de cada componente de v.\n",
    "$ \\sum_{i=1}^{n} v_{i} $\n",
    "\n",
    "Finalmente, $$ \\sum_{i=1}^{n} v_{i} = 0$$"
   ]
  },
  {
   "cell_type": "markdown",
   "id": "b5bc647c-48de-4391-a305-aee808626ff3",
   "metadata": {},
   "source": [
    "---\n",
    "#### **Enunciado 2.** Extensiones del método de la potencia Consideren una matriz M ∈ Rn×n diagonalizable con autovalores λ1 ≥ λ2 ≥ · · · ≥ λn, y autovector vi asociado a λi\n",
    "\n",
    "**a.** Shifting de autovalores: Muestre que los autovalores de M + μI son γi = λi + μ, y que el autovector asociado a γi es vi. Concluya que si μ + λi̸ = 0 ∀i, entonces M + μI es inversible.\n",
    "\n",
    "---"
   ]
  },
  {
   "cell_type": "markdown",
   "id": "20bb1671-2967-49b8-83bf-12af32a79791",
   "metadata": {},
   "source": [
    "Partimos de la matriz M\n",
    "$$ M.v = \\lambda.v $$\n",
    "$$ \\text{ Sumamos el término μIv para que nos quede la expresión deseada} $$\n",
    "$$ M.v + μv = \\lambda.v + μv $$\n",
    "$$ (M+μI)v = (\\lambda + μ).v $$\n",
    "$$\n",
    "Autovalor \\space { }\n",
    "\\boxed{\n",
    "    γ_{i}  = \\lambda_{i} + μ\n",
    "} \\space{ }\n",
    "\\text{ y Autovector }\n",
    "\\boxed{\n",
    "    v_{i}\n",
    "} \n",
    "$$"
   ]
  },
  {
   "cell_type": "markdown",
   "id": "0bed4656-c112-453c-8fa3-0e95e309abf6",
   "metadata": {},
   "source": [
    "Luego, nos proponemos probar que $M+μI$ es inversible. \n",
    "$$ (M+μI)v = (\\lambda + μ).v $$\n",
    "\n",
    "---\n",
    "La forma de obtener los autovalores de nuestra matriz es a través del polinomio característico  P(λ) = det(A − λI).\n",
    "En nuestro caso, queda conformado de la siguiente forma: \n",
    "$$ Det((M+μI)- (\\lambda + μ)I) = 0 $$\n",
    "Al igual que la primera parte del TP, podemos probar que nuestra matriz es inversible cuando λ + μ ≠ 0 a través de un absurdo. Veamos que ocurre primero cuando λ + μ = 0\n",
    "$$ Det(M+μI) = \\prod_{i=1}^n λ_{i} + μ  = 0$$\n",
    "Pero cuando en una matriz su determinante es cero significa que hay dependencia lineal entre filas o columnas, lo cual es característico de un matriz singular. \n",
    "\n",
    "Entonces cuando λ + μ ≠ 0 $\\Rightarrow$ $M+μI$ es inversible. "
   ]
  },
  {
   "cell_type": "markdown",
   "id": "e18e35e9-2fa1-40b8-a4cb-0dcc95bf94c7",
   "metadata": {},
   "source": [
    "---\n",
    "**b. Método de la potencia inverso:** Considerando μ > 0, muestren que L + μI es\n",
    "inversible, con L el laplaciano definido en la ecuación 2. Muestren que aplicar el\n",
    "método de la potencia a (L + μI)−1 converge a su autovector de autovalor más\n",
    "chico si se parte de una semilla adecuada. Indique, en el caso de que hay sólo un\n",
    "autovector con dicho autovalor, cuál es dicho autovector y cuánto vale su autovalor.\n",
    "\n",
    "---"
   ]
  },
  {
   "cell_type": "markdown",
   "id": "580112a2-03f4-4d80-b276-b9a468efc24e",
   "metadata": {},
   "source": [
    "Como se menciona en el TP, la matriz L es semidefinida positiva, y por lo tanto tiene todos sus autovalores mayores o iguales a cero.\n",
    "Con este dato, sabemos que:\n",
    "- μ > 0\n",
    "- λ > 0\n",
    "- λ + μ > 0\n",
    "\n",
    "Como vimos en el item b) el autovalor de nuestra matriz es $ γ  = \\lambda + μ $\n",
    "$$ Det(L+μI) = \\prod_{i=1}^n λ_{i} + μ  > 0$$\n"
   ]
  },
  {
   "cell_type": "markdown",
   "id": "add987ab-6572-49f4-8a21-0f6d37827f51",
   "metadata": {},
   "source": [
    "---\n",
    "$$ (L+μI)v = (\\lambda + μ).v $$\n",
    "$$ (L+μI)^{-1}v = (\\lambda + μ)^{-1}.v $$\n"
   ]
  },
  {
   "cell_type": "markdown",
   "id": "ad6fc690-1b43-4de2-a106-d600d4c74fee",
   "metadata": {},
   "source": [
    "Donde sus autovalores satisfacen:  γ1 ≥ γ2 ≥ · · · ≥ γn "
   ]
  },
  {
   "cell_type": "markdown",
   "id": "75a96124-7617-430c-abf3-da111ba186c8",
   "metadata": {},
   "source": [
    "$$(\\lambda_{1} + μ)^{-1} ≥ (\\lambda_{2} + μ)^{-1} ≥ ...  ≥ (\\lambda_{n} + μ)^{-1}$$"
   ]
  },
  {
   "cell_type": "markdown",
   "id": "2dd68c24-11be-4df4-bdf9-f27719e15900",
   "metadata": {},
   "source": [
    "Vemos que el autovalor mas grande es el de $(\\lambda_{1} + μ)^{-1}$ con λ1"
   ]
  },
  {
   "cell_type": "markdown",
   "id": "1b4a8c64-1b04-4701-8d76-7c1567001e20",
   "metadata": {},
   "source": [
    "$$ (L+μI)v_{i} = (\\lambda_{i} + μ).v_{i} $$"
   ]
  },
  {
   "cell_type": "code",
   "execution_count": null,
   "id": "26419e28-2180-4b31-971d-524f99ca5574",
   "metadata": {},
   "outputs": [],
   "source": []
  }
 ],
 "metadata": {
  "kernelspec": {
   "display_name": "Python 3 (ipykernel)",
   "language": "python",
   "name": "python3"
  },
  "language_info": {
   "codemirror_mode": {
    "name": "ipython",
    "version": 3
   },
   "file_extension": ".py",
   "mimetype": "text/x-python",
   "name": "python",
   "nbconvert_exporter": "python",
   "pygments_lexer": "ipython3",
   "version": "3.12.4"
  }
 },
 "nbformat": 4,
 "nbformat_minor": 5
}
